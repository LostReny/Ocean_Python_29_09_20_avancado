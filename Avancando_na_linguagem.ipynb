{
  "nbformat": 4,
  "nbformat_minor": 0,
  "metadata": {
    "colab": {
      "name": "Ocean_Python_29_09_20_avançado.ipynb",
      "provenance": [],
      "authorship_tag": "ABX9TyPzkM5mvR8x2jH/AetZFhsJ",
      "include_colab_link": true
    },
    "kernelspec": {
      "name": "python3",
      "display_name": "Python 3"
    }
  },
  "cells": [
    {
      "cell_type": "markdown",
      "metadata": {
        "id": "view-in-github",
        "colab_type": "text"
      },
      "source": [
        "<a href=\"https://colab.research.google.com/github/LostReny/Ocean_Python_29_09_20_avancado/blob/master/Avancando_na_linguagem.ipynb\" target=\"_parent\"><img src=\"https://colab.research.google.com/assets/colab-badge.svg\" alt=\"Open In Colab\"/></a>"
      ]
    },
    {
      "cell_type": "code",
      "metadata": {
        "id": "l9IPa-H73Yqm",
        "outputId": "de1151a5-ec8b-458a-ec50-7c8500a75996",
        "colab": {
          "base_uri": "https://localhost:8080/",
          "height": 34
        }
      },
      "source": [
        "administrador = True # Boolean - booleano - bool\n",
        "\n",
        "print(administrador)"
      ],
      "execution_count": 2,
      "outputs": [
        {
          "output_type": "stream",
          "text": [
            "True\n"
          ],
          "name": "stdout"
        }
      ]
    },
    {
      "cell_type": "code",
      "metadata": {
        "id": "qbDcEO8M5f6I",
        "outputId": "5c0dc9ca-4339-4b78-cb5a-0062d494446b",
        "colab": {
          "base_uri": "https://localhost:8080/",
          "height": 51
        }
      },
      "source": [
        "# Comparação - igual\n",
        "\n",
        "comparacao_igual = (1 == 1)\n",
        "\n",
        "print(comparacao_igual)\n",
        "print(1 == 1)"
      ],
      "execution_count": 3,
      "outputs": [
        {
          "output_type": "stream",
          "text": [
            "True\n",
            "True\n"
          ],
          "name": "stdout"
        }
      ]
    },
    {
      "cell_type": "code",
      "metadata": {
        "id": "EKfZ3c-J5uuC",
        "outputId": "a9b24e9b-5a56-4103-cfe9-a70e8e1cd7a5",
        "colab": {
          "base_uri": "https://localhost:8080/",
          "height": 34
        }
      },
      "source": [
        "# Comparação - diferente\n",
        "\n",
        "comparacao_diferente = 1 != 1 \n",
        "\n",
        "print(comparacao_diferente)"
      ],
      "execution_count": 4,
      "outputs": [
        {
          "output_type": "stream",
          "text": [
            "False\n"
          ],
          "name": "stdout"
        }
      ]
    },
    {
      "cell_type": "code",
      "metadata": {
        "id": "fIskUuuu5_mR",
        "outputId": "4d0b176c-eb9b-4310-e7ca-b2ba8c4cc234",
        "colab": {
          "base_uri": "https://localhost:8080/",
          "height": 102
        }
      },
      "source": [
        "print(1 < 2) # True\n",
        "print(1 > 0) # True\n",
        "print(1 >= 1) # True\n",
        "print(5 <= 5) # True\n",
        "print( 1 == 2) # False"
      ],
      "execution_count": 7,
      "outputs": [
        {
          "output_type": "stream",
          "text": [
            "True\n",
            "True\n",
            "True\n",
            "True\n",
            "False\n"
          ],
          "name": "stdout"
        }
      ]
    },
    {
      "cell_type": "code",
      "metadata": {
        "id": "W9IJhHa46hEx",
        "outputId": "74fa93a4-0406-48bc-843f-c4ab1a9f8c25",
        "colab": {
          "base_uri": "https://localhost:8080/",
          "height": 102
        }
      },
      "source": [
        "print(17 < 328)\n",
        "print(100 == (2*50))\n",
        "print(19 <= 19)\n",
        "print(-22 >= -18)\n",
        "print(99 != (98 +1))\n"
      ],
      "execution_count": 8,
      "outputs": [
        {
          "output_type": "stream",
          "text": [
            "True\n",
            "True\n",
            "True\n",
            "False\n",
            "False\n"
          ],
          "name": "stdout"
        }
      ]
    },
    {
      "cell_type": "code",
      "metadata": {
        "id": "JMO5rfKB7CSt",
        "outputId": "8f962b68-d132-4fd7-d8e3-47d543814db1",
        "colab": {
          "base_uri": "https://localhost:8080/",
          "height": 102
        }
      },
      "source": [
        "print((20 - 10) > 15)\n",
        "print((10 + 17) == 3 ** 16)\n",
        "print(1**2 <= -1)\n",
        "print(40 * 4 >= 4)\n",
        "print(100 != 10 ** 2)"
      ],
      "execution_count": 10,
      "outputs": [
        {
          "output_type": "stream",
          "text": [
            "False\n",
            "False\n",
            "False\n",
            "True\n",
            "False\n"
          ],
          "name": "stdout"
        }
      ]
    },
    {
      "cell_type": "code",
      "metadata": {
        "id": "yLy2AwbC7wTS",
        "outputId": "e0e2704f-1525-41b5-e9c6-b49789c4e58d",
        "colab": {
          "base_uri": "https://localhost:8080/",
          "height": 85
        }
      },
      "source": [
        "print(\"Rei\" == \"Rei Arthur\")\n",
        "print(\"Rei\" != \"Rei Arthur\")\n",
        "print(1 == \"1\") # False pq o tipo é diferente, um é int e o outro é string\n",
        "print(\"1\" == \"1\")"
      ],
      "execution_count": 11,
      "outputs": [
        {
          "output_type": "stream",
          "text": [
            "False\n",
            "True\n",
            "False\n",
            "True\n"
          ],
          "name": "stdout"
        }
      ]
    },
    {
      "cell_type": "code",
      "metadata": {
        "id": "QxYFGr0P8W9H",
        "outputId": "3f3c9220-0866-4d4d-c798-d4f74f0ed452",
        "colab": {
          "base_uri": "https://localhost:8080/",
          "height": 102
        }
      },
      "source": [
        "# Exercício na aula\n",
        "print(30 == 30)\n",
        "print(\"lost\" != \"puff\")\n",
        "print(2 == 3)\n",
        "print(\"P\" != \"A\")\n",
        "print(-2 >= 2 )"
      ],
      "execution_count": 13,
      "outputs": [
        {
          "output_type": "stream",
          "text": [
            "True\n",
            "True\n",
            "False\n",
            "True\n",
            "False\n"
          ],
          "name": "stdout"
        }
      ]
    },
    {
      "cell_type": "code",
      "metadata": {
        "id": "iFeXUeyd9c5Q",
        "outputId": "102a9d1b-c904-4466-9950-27f81026044f",
        "colab": {
          "base_uri": "https://localhost:8080/",
          "height": 102
        }
      },
      "source": [
        "# Operadores de comparação - and, nor e not\n",
        "\n",
        "#AND : todos os lados precisam ser True para que o resultado seja true (&&)\n",
        "print(True and True) \n",
        "print(True and False)\n",
        "print(False and False)\n",
        "\n",
        "#NOT: inverte o operador booleano, ou seja, False vira True e True vira false (!)\n",
        "print(not (False and True)) #executa o parenteses \n",
        "print(not False and False) #executa o primeiro operador\n",
        "\n"
      ],
      "execution_count": 17,
      "outputs": [
        {
          "output_type": "stream",
          "text": [
            "True\n",
            "False\n",
            "False\n",
            "True\n",
            "False\n"
          ],
          "name": "stdout"
        }
      ]
    }
  ]
}