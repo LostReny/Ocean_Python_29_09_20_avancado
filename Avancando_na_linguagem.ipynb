{
  "nbformat": 4,
  "nbformat_minor": 0,
  "metadata": {
    "colab": {
      "name": "Ocean_Python_29_09_20_avançado.ipynb",
      "provenance": [],
      "authorship_tag": "ABX9TyNsn9DLZza00HSi4TuIApc9",
      "include_colab_link": true
    },
    "kernelspec": {
      "name": "python3",
      "display_name": "Python 3"
    }
  },
  "cells": [
    {
      "cell_type": "markdown",
      "metadata": {
        "id": "view-in-github",
        "colab_type": "text"
      },
      "source": [
        "<a href=\"https://colab.research.google.com/github/LostReny/Ocean_Python_29_09_20_avancado/blob/master/Avancando_na_linguagem.ipynb\" target=\"_parent\"><img src=\"https://colab.research.google.com/assets/colab-badge.svg\" alt=\"Open In Colab\"/></a>"
      ]
    },
    {
      "cell_type": "code",
      "metadata": {
        "id": "l9IPa-H73Yqm",
        "outputId": "de1151a5-ec8b-458a-ec50-7c8500a75996",
        "colab": {
          "base_uri": "https://localhost:8080/",
          "height": 34
        }
      },
      "source": [
        "administrador = True # Boolean - booleano - bool\n",
        "\n",
        "print(administrador)"
      ],
      "execution_count": 2,
      "outputs": [
        {
          "output_type": "stream",
          "text": [
            "True\n"
          ],
          "name": "stdout"
        }
      ]
    },
    {
      "cell_type": "code",
      "metadata": {
        "id": "qbDcEO8M5f6I",
        "outputId": "5c0dc9ca-4339-4b78-cb5a-0062d494446b",
        "colab": {
          "base_uri": "https://localhost:8080/",
          "height": 51
        }
      },
      "source": [
        "# Comparação - igual\n",
        "\n",
        "comparacao_igual = (1 == 1)\n",
        "\n",
        "print(comparacao_igual)\n",
        "print(1 == 1)"
      ],
      "execution_count": 3,
      "outputs": [
        {
          "output_type": "stream",
          "text": [
            "True\n",
            "True\n"
          ],
          "name": "stdout"
        }
      ]
    },
    {
      "cell_type": "code",
      "metadata": {
        "id": "EKfZ3c-J5uuC",
        "outputId": "a9b24e9b-5a56-4103-cfe9-a70e8e1cd7a5",
        "colab": {
          "base_uri": "https://localhost:8080/",
          "height": 34
        }
      },
      "source": [
        "# Comparação - diferente\n",
        "\n",
        "comparacao_diferente = 1 != 1 \n",
        "\n",
        "print(comparacao_diferente)"
      ],
      "execution_count": 4,
      "outputs": [
        {
          "output_type": "stream",
          "text": [
            "False\n"
          ],
          "name": "stdout"
        }
      ]
    },
    {
      "cell_type": "code",
      "metadata": {
        "id": "fIskUuuu5_mR",
        "outputId": "4d0b176c-eb9b-4310-e7ca-b2ba8c4cc234",
        "colab": {
          "base_uri": "https://localhost:8080/",
          "height": 102
        }
      },
      "source": [
        "print(1 < 2) # True\n",
        "print(1 > 0) # True\n",
        "print(1 >= 1) # True\n",
        "print(5 <= 5) # True\n",
        "print( 1 == 2) # False"
      ],
      "execution_count": 7,
      "outputs": [
        {
          "output_type": "stream",
          "text": [
            "True\n",
            "True\n",
            "True\n",
            "True\n",
            "False\n"
          ],
          "name": "stdout"
        }
      ]
    },
    {
      "cell_type": "code",
      "metadata": {
        "id": "W9IJhHa46hEx",
        "outputId": "74fa93a4-0406-48bc-843f-c4ab1a9f8c25",
        "colab": {
          "base_uri": "https://localhost:8080/",
          "height": 102
        }
      },
      "source": [
        "print(17 < 328)\n",
        "print(100 == (2*50))\n",
        "print(19 <= 19)\n",
        "print(-22 >= -18)\n",
        "print(99 != (98 +1))\n"
      ],
      "execution_count": 8,
      "outputs": [
        {
          "output_type": "stream",
          "text": [
            "True\n",
            "True\n",
            "True\n",
            "False\n",
            "False\n"
          ],
          "name": "stdout"
        }
      ]
    },
    {
      "cell_type": "code",
      "metadata": {
        "id": "JMO5rfKB7CSt",
        "outputId": "8f962b68-d132-4fd7-d8e3-47d543814db1",
        "colab": {
          "base_uri": "https://localhost:8080/",
          "height": 102
        }
      },
      "source": [
        "print((20 - 10) > 15)\n",
        "print((10 + 17) == 3 ** 16)\n",
        "print(1**2 <= -1)\n",
        "print(40 * 4 >= 4)\n",
        "print(100 != 10 ** 2)"
      ],
      "execution_count": 10,
      "outputs": [
        {
          "output_type": "stream",
          "text": [
            "False\n",
            "False\n",
            "False\n",
            "True\n",
            "False\n"
          ],
          "name": "stdout"
        }
      ]
    },
    {
      "cell_type": "code",
      "metadata": {
        "id": "yLy2AwbC7wTS",
        "outputId": "e0e2704f-1525-41b5-e9c6-b49789c4e58d",
        "colab": {
          "base_uri": "https://localhost:8080/",
          "height": 85
        }
      },
      "source": [
        "print(\"Rei\" == \"Rei Arthur\")\n",
        "print(\"Rei\" != \"Rei Arthur\")\n",
        "print(1 == \"1\") # False pq o tipo é diferente, um é int e o outro é string\n",
        "print(\"1\" == \"1\")"
      ],
      "execution_count": 11,
      "outputs": [
        {
          "output_type": "stream",
          "text": [
            "False\n",
            "True\n",
            "False\n",
            "True\n"
          ],
          "name": "stdout"
        }
      ]
    },
    {
      "cell_type": "code",
      "metadata": {
        "id": "QxYFGr0P8W9H",
        "outputId": "3f3c9220-0866-4d4d-c798-d4f74f0ed452",
        "colab": {
          "base_uri": "https://localhost:8080/",
          "height": 102
        }
      },
      "source": [
        "# Exercício na aula\n",
        "print(30 == 30)\n",
        "print(\"lost\" != \"puff\")\n",
        "print(2 == 3)\n",
        "print(\"P\" != \"A\")\n",
        "print(-2 >= 2 )"
      ],
      "execution_count": 13,
      "outputs": [
        {
          "output_type": "stream",
          "text": [
            "True\n",
            "True\n",
            "False\n",
            "True\n",
            "False\n"
          ],
          "name": "stdout"
        }
      ]
    },
    {
      "cell_type": "code",
      "metadata": {
        "id": "iFeXUeyd9c5Q",
        "outputId": "102a9d1b-c904-4466-9950-27f81026044f",
        "colab": {
          "base_uri": "https://localhost:8080/",
          "height": 102
        }
      },
      "source": [
        "# Operadores de comparação - and, or e not\n",
        "\n",
        "#AND : todos os lados precisam ser True para que o resultado seja true (&&)\n",
        "print(True and True) \n",
        "print(True and False)\n",
        "print(False and False)\n",
        "\n",
        "#NOT: inverte o operador booleano, ou seja, False vira True e True vira false (!)\n",
        "#NOT tem mais prioridade que o and e o or \n",
        "print(not (False and True)) #executa o parenteses \n",
        "print(not False and False) #executa o primeiro operador\n",
        "\n"
      ],
      "execution_count": 17,
      "outputs": [
        {
          "output_type": "stream",
          "text": [
            "True\n",
            "False\n",
            "False\n",
            "True\n",
            "False\n"
          ],
          "name": "stdout"
        }
      ]
    },
    {
      "cell_type": "code",
      "metadata": {
        "id": "yxkv-por_eyV",
        "outputId": "3b71a06b-b4e5-4448-c344-f9a8df9a4e4a",
        "colab": {
          "base_uri": "https://localhost:8080/",
          "height": 119
        }
      },
      "source": [
        "# Or: precisa que um dos lados seja True\n",
        "\n",
        "print(True or True)\n",
        "print(True or False)\n",
        "print(False or False)\n",
        "print(not (True or False))\n",
        "print(not True or False)\n",
        "print( not False or True)"
      ],
      "execution_count": 20,
      "outputs": [
        {
          "output_type": "stream",
          "text": [
            "True\n",
            "True\n",
            "False\n",
            "False\n",
            "False\n",
            "True\n"
          ],
          "name": "stdout"
        }
      ]
    },
    {
      "cell_type": "code",
      "metadata": {
        "id": "h_ZnCmJjAOde",
        "outputId": "4e678c0d-09ac-48bf-d01a-80a1ef92bc56",
        "colab": {
          "base_uri": "https://localhost:8080/",
          "height": 68
        }
      },
      "source": [
        "print(not(not(True)))\n",
        "print(not True != (not False) or True == False)\n",
        "print(True == False and True)"
      ],
      "execution_count": 21,
      "outputs": [
        {
          "output_type": "stream",
          "text": [
            "True\n",
            "True\n",
            "False\n"
          ],
          "name": "stdout"
        }
      ]
    },
    {
      "cell_type": "markdown",
      "metadata": {
        "id": "CqP5Cn-KC_lK"
      },
      "source": [
        "# Ordem da Lógica Booleana\n",
        "\n",
        "Antes de tudo, se resolve os operadores de comparação: ==, !=, <, >, <= e >=\n",
        "\n",
        "1. Primeiro se resolve o `not`\n",
        "2. Depois se resolve o `and`\n",
        "3. E por último se resolve o `or`"
      ]
    },
    {
      "cell_type": "code",
      "metadata": {
        "id": "XbxIH8upDwaa",
        "outputId": "eeeb6653-82e4-4818-8b62-361eee16ac8b",
        "colab": {
          "base_uri": "https://localhost:8080/",
          "height": 34
        }
      },
      "source": [
        "# if, elif e else\n",
        "\n",
        "admin = True\n",
        "\n",
        "#True == True -> True\n",
        "#False == True -> False\n",
        "#Para entrarmos no bloco if, a condição precisa ser True\n",
        "#If representa \"se\", ou seja, \"se\" algo for verdadeiro\n",
        "#Else representa \"se não - ou - caso contrário\", ou seja, se a condição do if for false, o else será atividado\n",
        "\n",
        "if admin == True:\n",
        "  print(\"Acesso liberado\")\n",
        "\n",
        "else:\n",
        "  print(\"Acesso negado\")\n"
      ],
      "execution_count": 50,
      "outputs": [
        {
          "output_type": "stream",
          "text": [
            "Acesso liberado\n"
          ],
          "name": "stdout"
        }
      ]
    },
    {
      "cell_type": "code",
      "metadata": {
        "id": "flSPjdl8FR9Q",
        "outputId": "53bdeea6-e29c-45be-f59e-04e0734e1986",
        "colab": {
          "base_uri": "https://localhost:8080/",
          "height": 34
        }
      },
      "source": [
        "# elif represena um : caso contrário, se\n",
        "\n",
        "numero = 5\n",
        "\n",
        "if numero > 5:\n",
        "  print(f\"O número {numero} é maior que 5\")\n",
        "elif numero >0:\n",
        "  print(f\"O número {numero} é maior que 0 e também é menor ou igual a 5\")\n",
        "else:\n",
        "  print(f\"O número {numero} é menor ou igual a zero\")"
      ],
      "execution_count": 37,
      "outputs": [
        {
          "output_type": "stream",
          "text": [
            "O número 5 é maior que 0 e também é menor ou igual a 5\n"
          ],
          "name": "stdout"
        }
      ]
    },
    {
      "cell_type": "code",
      "metadata": {
        "id": "ncC7SZH9HcQ1",
        "outputId": "702ec508-c9aa-45df-92aa-e1ed78d636da",
        "colab": {
          "base_uri": "https://localhost:8080/",
          "height": 51
        }
      },
      "source": [
        "if False:\n",
        "  print(\"IF\")\n",
        "elif False:\n",
        "  print(\"Elif 1\")\n",
        "elif True:\n",
        "  print(\"Elif 2\")\n",
        "else:\n",
        "  print(\"ELSE\")\n",
        "\n",
        "\n",
        "nome = \"Amarelo\"\n",
        "if nome == \"Lost\":\n",
        "  print(\"IF\")\n",
        "elif nome  == \"Reny\":\n",
        "  print(\"Elif 1\")\n",
        "elif nome == \"Puff\":\n",
        "  print(\"Elif 2\")\n",
        "else:\n",
        "  print(\"ELSE\")\n"
      ],
      "execution_count": 57,
      "outputs": [
        {
          "output_type": "stream",
          "text": [
            "Elif 2\n",
            "ELSE\n"
          ],
          "name": "stdout"
        }
      ]
    },
    {
      "cell_type": "code",
      "metadata": {
        "id": "VuzJYqoOJMhU"
      },
      "source": [
        "login = \"admin\"\n",
        "senha = \"admin\"\n",
        "\n",
        "#Buscar no banco de dados se existe algum usuário que possui login 'admin' e senha 'admin'\n",
        "#Se tiver, trago esse usuário\n",
        "#olho se o o usuário possui a variável de administrador como True, se tiver da acesso liberado\n",
        "\n",
        "if login == \"admin\" and senha == \"admin\":\n",
        "  print(\"Admin conectado\")"
      ],
      "execution_count": null,
      "outputs": []
    },
    {
      "cell_type": "code",
      "metadata": {
        "id": "3zkvKSlVJyAq",
        "outputId": "223e6f14-d5af-41ce-b599-1cd1f9c7df59",
        "colab": {
          "base_uri": "https://localhost:8080/",
          "height": 68
        }
      },
      "source": [
        "# Exercício 1-  sala de aula \n",
        "'''\n",
        "Escreva um programa que receba uma string digitada pelo usuário e caso a string seja igual a \"medieval\", exiba no console: \"espada\"\n",
        "Caso contrário, se a string for igual a \"futurista\", exiba no console; \"sabre de luz\"\n",
        "caso contrário, exiba no console: \"tente novamente\"\n",
        "'''\n",
        "\n",
        "usuario = input(\"Por acaso sua classe é *futurista* ou tá mais pra *medieval*:\\n\").lower() .strip()\n",
        "#o .lower formata o texto digitado pelo usuário\n",
        "#.strip tira o espaço da frente e por trás da palavra\n",
        "\n",
        "if usuario == \"medieval\":\n",
        "  print(\"Você recebeu uma espada\")\n",
        "elif usuario == \"futurista\":\n",
        "  print(\"Você recebeu um sabre de luz\")\n",
        "else:\n",
        "  print(\"Tente novamente...\")"
      ],
      "execution_count": 75,
      "outputs": [
        {
          "output_type": "stream",
          "text": [
            "Por acaso sua classe é *futurista* ou tá mais pra *medieval*:\n",
            "FUTURISTA\n",
            "Você recebeu um sabre de luz\n"
          ],
          "name": "stdout"
        }
      ]
    },
    {
      "cell_type": "markdown",
      "metadata": {
        "id": "TmCEPwhdQvGV"
      },
      "source": [
        "https://www.datacamp.com/community/tutorials/fuzzy-string-python\n",
        "\n",
        "link FUZZY STRING MACHING IN PYTHON\n",
        "\n",
        "arruma erro feito pelo usuario\n"
      ]
    },
    {
      "cell_type": "code",
      "metadata": {
        "id": "IgqnhQITQ257",
        "outputId": "60322c29-3297-4447-ba03-194e53cdd8da",
        "colab": {
          "base_uri": "https://localhost:8080/",
          "height": 68
        }
      },
      "source": [
        "print(\"a\" > \"b\")\n",
        "print(\"b\" > \"a\")\n",
        "print(\"a\" == \"b\")\n",
        "\n",
        "# a e b possuem números decimais"
      ],
      "execution_count": 80,
      "outputs": [
        {
          "output_type": "stream",
          "text": [
            "False\n",
            "True\n",
            "False\n"
          ],
          "name": "stdout"
        }
      ]
    },
    {
      "cell_type": "code",
      "metadata": {
        "id": "7OS86Oz-SEHj",
        "outputId": "926a5b32-2831-454b-9479-92b48d9b8906",
        "colab": {
          "base_uri": "https://localhost:8080/",
          "height": 34
        }
      },
      "source": [
        "# Funções\n",
        "\n",
        "# Em resumo, funções são trechos de código em que a gente dá um nome pra esse techo e executa ele quando for pertinenete\n",
        "\n",
        "def exibir_numero():\n",
        "  numero = 1\n",
        "  print(numero)\n",
        "\n",
        "exibir_numero() #deste modo chama a função\n"
      ],
      "execution_count": 83,
      "outputs": [
        {
          "output_type": "stream",
          "text": [
            "1\n"
          ],
          "name": "stdout"
        }
      ]
    },
    {
      "cell_type": "code",
      "metadata": {
        "id": "Dhs-VDQJPTG9",
        "outputId": "bb9f30b8-ae98-4aae-c6e9-6a6375bc2e6b",
        "colab": {
          "base_uri": "https://localhost:8080/",
          "height": 153
        }
      },
      "source": [
        "print(\"medieval\" in \"texto qualque medieval texto final\")\n",
        "\n",
        "#def cria o bloco de código, depois damos um nome, os parenteses representam que é uma função e dois pontos representa o ínicio do bloco\n",
        "#tudo que estiver embaixo, com um nível de identação  a mais do que o nível da própria função, estará dentro deste trecho\n",
        "\n",
        "def solicitar_escolha():\n",
        "  usuario = input(\"Por acaso sua classe é *futurista* ou tá mais pra *medieval*:\\n\").lower() .strip()\n",
        "\n",
        "  if \"medieval\" in usuario:\n",
        "    print(\"Você recebeu uma espada\")\n",
        "  elif \"futurista\" in usuario:\n",
        "    print(\"Você recebeu um sabre de luz\")\n",
        "  else:\n",
        "    print(\"Tente novamente...\")\n",
        "    solicitar_escolha()\n",
        "\n",
        "print(\"Iniciando o jogo...\")\n",
        "solicitar_escolha()\n",
        "\n",
        "# orientação objetos ? - java já começa em uma classe"
      ],
      "execution_count": 118,
      "outputs": [
        {
          "output_type": "stream",
          "text": [
            "True\n",
            "Iniciando o jogo...\n",
            "Por acaso sua classe é *futurista* ou tá mais pra *medieval*:\n",
            "Não sei \n",
            "Tente novamente...\n",
            "Por acaso sua classe é *futurista* ou tá mais pra *medieval*:\n",
            "FUTURISTA\n",
            "Você recebeu um sabre de luz\n"
          ],
          "name": "stdout"
        }
      ]
    },
    {
      "cell_type": "code",
      "metadata": {
        "id": "4wJr4kcIV_yQ"
      },
      "source": [
        "'''\n",
        "Jogo feito em java script --- e da pra colocar no github\n",
        "\n",
        "function solicitar_escolha() {\n",
        "  const escolha_usuario = prompt(\"Por acaso você é *futurista* ou tá mais pra *medieval*?\\n\").toLowerCase().trim()\n",
        "\n",
        "  if (escolha_usuario.includes(\"medieval\")) {\n",
        "    alert(\"Você recebeu uma espada!\")\n",
        "  } else if (escolha_usuario.includes(\"futur\")) {\n",
        "    alert(\"Você recebeu um sabre de luz!\")\n",
        "  } else {\n",
        "    alert(\"Tente novamente...\")\n",
        "    solicitar_escolha()\n",
        "  }\n",
        "}\n",
        "\n",
        "'''"
      ],
      "execution_count": null,
      "outputs": []
    },
    {
      "cell_type": "markdown",
      "metadata": {
        "id": "oNKjLNPdXUnb"
      },
      "source": [
        "https://paulosalvatore.github.io/Ocean_Python_29_09_2020/\n",
        "\n",
        "jogo publicado em java do professor"
      ]
    },
    {
      "cell_type": "code",
      "metadata": {
        "id": "6pI94zlmXZ6E",
        "outputId": "0f236990-cb55-4f01-c45c-a885e4ccadcc",
        "colab": {
          "base_uri": "https://localhost:8080/",
          "height": 85
        }
      },
      "source": [
        "\n",
        "# Vamos construir uma calculadora\n",
        "\n",
        "#Dentro dos parenteses de onde estamos declarando a função, criamos os PARÂMETROS. Aqui não temos uma informação concreta ainda\n",
        "#Já dentro dos parenteses de onde estamos CHAMANDO a função, declaramos os ARGUEMTENTOS. aqui temos a informação.\n",
        "\n",
        "def somar(numero1, numero2):\n",
        "  resultado_soma = numero1 + numero2\n",
        "  print(resultado_soma)\n",
        "\n",
        "#Ao chamar a função, temos algumas maneirs de fazer isso\n",
        "#A primeira, mais simples, informamos os argumentos - somar(900, 500)\n",
        "#Por fim, nessa onde escrevemos qual o nome do parâmetro bonitinho, podemos inverter os números\n",
        "\n",
        "somar(numero1=10, numero2=20)\n",
        "somar(numero1=40, numero2=25)\n",
        "\n",
        "somar(900, 1250)\n",
        "somar(numero2=250, numero1=300)\n"
      ],
      "execution_count": 95,
      "outputs": [
        {
          "output_type": "stream",
          "text": [
            "30\n",
            "65\n",
            "2150\n",
            "550\n"
          ],
          "name": "stdout"
        }
      ]
    },
    {
      "cell_type": "code",
      "metadata": {
        "id": "j0a2Ud5QZwPb",
        "outputId": "9697fe14-04a3-4d73-fd32-1f7b0b0a8e0c",
        "colab": {
          "base_uri": "https://localhost:8080/",
          "height": 51
        }
      },
      "source": [
        "# Retorno das funções\n",
        "\n",
        "# Vamos construir uma calculadora\n",
        "\n",
        "def somar(numero1, numero2):\n",
        "  resultado_soma = numero1 + numero2\n",
        "  return resultado_soma\n",
        "\n",
        "resultado1 = somar(15, 10)\n",
        "print(resultado1)\n",
        "\n",
        "resultado2 = somar(150, 20)\n",
        "resultado3 = somar(50, 30)\n",
        "resultado4 = somar(resultado2, resultado3)\n",
        "print(resultado4)\n"
      ],
      "execution_count": 97,
      "outputs": [
        {
          "output_type": "stream",
          "text": [
            "25\n",
            "250\n"
          ],
          "name": "stdout"
        }
      ]
    },
    {
      "cell_type": "code",
      "metadata": {
        "id": "9Kq9V3lFaazb",
        "outputId": "5e38c825-14c8-4182-bac5-0e77c6edad8e",
        "colab": {
          "base_uri": "https://localhost:8080/",
          "height": 68
        }
      },
      "source": [
        "def subtrair(a ,b): #parametros\n",
        "  return a - b\n",
        "\n",
        "numero1 = 15 #argumentos\n",
        "numero2 = 10\n",
        "resultado1 = subtrair(numero1, numero2)\n",
        "print(resultado1)\n",
        "\n",
        "# Tenho sempre dois escopos; um que está dentro da função, e o outro fora da função, para quem está chamando\n",
        "\n",
        "def teste():\n",
        "  print(\"Olá, sou um teste\")\n",
        "  return \"Eu sou o retorno da função\"\n",
        "\n",
        "resultado2 = teste()\n",
        "print(resultado2)"
      ],
      "execution_count": 99,
      "outputs": [
        {
          "output_type": "stream",
          "text": [
            "5\n",
            "Olá, sou um teste\n",
            "Eu sou o retorno da função\n"
          ],
          "name": "stdout"
        }
      ]
    },
    {
      "cell_type": "code",
      "metadata": {
        "id": "rMn6e-Labyif",
        "outputId": "171dbb22-5aaa-4a75-90ef-1a3643e1f67a",
        "colab": {
          "base_uri": "https://localhost:8080/",
          "height": 119
        }
      },
      "source": [
        "def getNumeroDigitado():\n",
        "  return int(input(\"Digite um número:\\n\"))\n",
        "\n",
        "numero1 = getNumeroDigitado()\n",
        "numero2 = getNumeroDigitado()\n",
        "\n",
        "print(f\"A soma dos números digitados é : {numero1 + numero2}.\")\n",
        "\n",
        "\n",
        "def getNome():\n",
        "  return \"Lost\"\n",
        "\n",
        "print(f\"Olá eu sou {getNome()}.\")\n",
        "\n",
        "def isAdmin():\n",
        "  return False"
      ],
      "execution_count": 102,
      "outputs": [
        {
          "output_type": "stream",
          "text": [
            "Digite um número:\n",
            "30\n",
            "Digite um número:\n",
            "20\n",
            "A soma dos números digitados é : 50.\n",
            "Olá eu sou Lost.\n"
          ],
          "name": "stdout"
        }
      ]
    },
    {
      "cell_type": "code",
      "metadata": {
        "id": "S2NK0jnhcueW",
        "outputId": "08803965-8e39-4266-ee13-b8a62efa3fa9",
        "colab": {
          "base_uri": "https://localhost:8080/",
          "height": 51
        }
      },
      "source": [
        "# Exércicio 2 - sala de aula\n",
        "\n",
        "def calcularNumero(numero):\n",
        "  resultado = numero * numero + numero % 10\n",
        "  return resultado\n",
        "\n",
        "resultado1 = calcularNumero(23)\n",
        "resultado2 = calcularNumero(30)\n",
        "\n",
        "print(f\"Resultado1: {resultado1}\")\n",
        "print(f\"Resultado2: {resultado2}\")\n"
      ],
      "execution_count": 106,
      "outputs": [
        {
          "output_type": "stream",
          "text": [
            "Resultado1: 532\n",
            "Resultado2: 900\n"
          ],
          "name": "stdout"
        }
      ]
    },
    {
      "cell_type": "markdown",
      "metadata": {
        "id": "f7A58qWMebaa"
      },
      "source": [
        "# **Praticando**: Hotel\n",
        "\n",
        "Crie uma função chamada ‘custo_hotel’ que receba um parâmetro (argumento) chamado ‘noites’ e retorne o custo total do hotel, sendo que 1 noite custa R$ 140,00.\n",
        "\n",
        "#**Praticando**: Avião\n",
        "Crie uma função chamada ‘custo_aviao’ que receba o nome da cidade e retorne o custo da passagem de avião, sendo que passagem para:\n",
        "\n",
        "* São Paulo custa R$ 312,00;\n",
        "\n",
        "* Porto Alegre custa R$ 447,00;\n",
        "\n",
        "* Recife custa R$ 831,00;\n",
        "\n",
        "* Manaus custa R$ 986,00.\n",
        "Nova seção\n",
        "\n",
        "# **Praticando**: Carro\n",
        "Crie uma função chamada ‘custo_carro’ que receba um parâmetro chamado ‘dias’. Calcule o custo do aluguel do carro sendo que:\n",
        "\n",
        "A cada dia o carro custa R$ 40,00;\n",
        "\n",
        "Alugando 7 dias ou +: R$ 50,00 de desconto;\n",
        "\n",
        "Alugando 3 dias ou +: R$ 20,00 de desconto;\n",
        "\n",
        "Você pode receber apenas um desconto;\n",
        "\n",
        "Retorne o custo.\n"
      ]
    },
    {
      "cell_type": "code",
      "metadata": {
        "id": "FWnfTxLwejnz",
        "outputId": "162e2679-789f-4c6f-c6ce-fc276bd7a462",
        "colab": {
          "base_uri": "https://localhost:8080/",
          "height": 85
        }
      },
      "source": [
        "#Praticando Hotel Resposta:\n",
        "def custo_hotel(noite):\n",
        "  valor = noite\n",
        "  return valor\n",
        "\n",
        "valor1 = custo_hotel(140)\n",
        "\n",
        "print(f\"Uma noite: R$ {valor1}\")\n",
        "print(f\"Duas noite: R$ {valor1 + valor1}\")\n",
        "print(f\"Duas semanas: R$ {valor1 * 14}\")\n",
        "print(f\"Uma semana: R$ {valor1 * 7} \")\n"
      ],
      "execution_count": 119,
      "outputs": [
        {
          "output_type": "stream",
          "text": [
            "Uma noite: R$ 140\n",
            "Duas noite: R$ 280\n",
            "Duas semanas: R$ 1960\n",
            "Uma semana: R$ 980 \n"
          ],
          "name": "stdout"
        }
      ]
    }
  ]
}